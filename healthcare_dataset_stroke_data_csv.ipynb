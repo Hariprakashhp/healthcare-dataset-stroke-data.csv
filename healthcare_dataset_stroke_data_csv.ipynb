{
  "nbformat": 4,
  "nbformat_minor": 0,
  "metadata": {
    "colab": {
      "private_outputs": true,
      "provenance": [],
      "authorship_tag": "ABX9TyPArcEQVd8HnKFBuw25McUf",
      "include_colab_link": true
    },
    "kernelspec": {
      "name": "python3",
      "display_name": "Python 3"
    },
    "language_info": {
      "name": "python"
    }
  },
  "cells": [
    {
      "cell_type": "markdown",
      "metadata": {
        "id": "view-in-github",
        "colab_type": "text"
      },
      "source": [
        "<a href=\"https://colab.research.google.com/github/Hariprakashhp/healthcare-dataset-stroke-data.csv/blob/main/healthcare_dataset_stroke_data_csv.ipynb\" target=\"_parent\"><img src=\"https://colab.research.google.com/assets/colab-badge.svg\" alt=\"Open In Colab\"/></a>"
      ]
    },
    {
      "cell_type": "code",
      "source": [
        "# importing libraries\n",
        "import pandas as pd\n",
        "import numpy as np\n",
        "import matplotlib.pyplot as plt\n",
        "import seaborn as sns"
      ],
      "metadata": {
        "id": "T0eiVYbNeBZc"
      },
      "execution_count": null,
      "outputs": []
    },
    {
      "cell_type": "code",
      "source": [
        "# loading the dataset\n",
        "df = pd.read_csv(\"healthcare-dataset-stroke-data.csv\")\n"
      ],
      "metadata": {
        "id": "kim7BEJQeRpW"
      },
      "execution_count": null,
      "outputs": []
    },
    {
      "cell_type": "code",
      "source": [
        "df.head()"
      ],
      "metadata": {
        "id": "QKfnRn_IeUf7"
      },
      "execution_count": null,
      "outputs": []
    },
    {
      "cell_type": "code",
      "source": [
        "# checking for null values\n",
        "df.info()\n"
      ],
      "metadata": {
        "id": "SDtvEafJeXdK"
      },
      "execution_count": null,
      "outputs": []
    },
    {
      "cell_type": "code",
      "source": [
        "# removing duplicates\n",
        "df.duplicated().sum()\n"
      ],
      "metadata": {
        "id": "t-aesHTWebSX"
      },
      "execution_count": null,
      "outputs": []
    },
    {
      "cell_type": "code",
      "source": [
        "# removing null values\n",
        "df.isnull().sum()"
      ],
      "metadata": {
        "id": "2KJZFl8CeeN6"
      },
      "execution_count": null,
      "outputs": []
    },
    {
      "cell_type": "code",
      "source": [
        "# dealing with nan values with BMI column\n",
        "df[\"bmi\"]= df[\"bmi\"].fillna(value=df[\"bmi\"].mean())\n",
        "df.isna().sum()"
      ],
      "metadata": {
        "id": "YjRyEM2AegSp"
      },
      "execution_count": null,
      "outputs": []
    },
    {
      "cell_type": "code",
      "source": [
        "\n",
        "df['age'] = df['age'].astype(int)\n",
        "df.dtypes"
      ],
      "metadata": {
        "id": "UDHTuhvcejWN"
      },
      "execution_count": null,
      "outputs": []
    },
    {
      "cell_type": "code",
      "source": [
        "df.drop('id', inplace=True, axis=1)\n",
        "df.head()"
      ],
      "metadata": {
        "id": "MsAP5U0Oendm"
      },
      "execution_count": null,
      "outputs": []
    },
    {
      "cell_type": "code",
      "source": [
        "df[\"ever_married\"].value_counts()"
      ],
      "metadata": {
        "id": "K9AYtKVneqGk"
      },
      "execution_count": null,
      "outputs": []
    },
    {
      "cell_type": "code",
      "source": [
        "# plotting the values\n",
        "sns.catplot(x=\"ever_married\",\n",
        "           data=df ,\n",
        "           kind=\"count\")"
      ],
      "metadata": {
        "id": "dI8p6cLJesvy"
      },
      "execution_count": null,
      "outputs": []
    },
    {
      "cell_type": "code",
      "source": [
        "df[\"gender\"].value_counts()"
      ],
      "metadata": {
        "id": "w--xPf6ReusE"
      },
      "execution_count": null,
      "outputs": []
    },
    {
      "cell_type": "code",
      "source": [
        "df = df[df[\"gender\"] != \"Other\"]\n",
        "df[\"gender\"].value_counts()"
      ],
      "metadata": {
        "id": "9J4ecIpXexLv"
      },
      "execution_count": null,
      "outputs": []
    },
    {
      "cell_type": "code",
      "source": [
        "# know the distribtion of the age and check if there any outliers or not\n",
        "sns.catplot(x=\"age\",\n",
        "           data = df,\n",
        "           kind=\"box\")"
      ],
      "metadata": {
        "id": "X7J4xjMGezsL"
      },
      "execution_count": null,
      "outputs": []
    },
    {
      "cell_type": "code",
      "source": [
        "# checking for outliers\n",
        "sns.catplot(x=\"bmi\",\n",
        "           data = df,\n",
        "           kind=\"box\")"
      ],
      "metadata": {
        "id": "YI_tRfIze2Rv"
      },
      "execution_count": null,
      "outputs": []
    },
    {
      "cell_type": "code",
      "source": [
        "df_bmi = df[df[\"bmi\"] > 80]\n",
        "df_bmi.head()"
      ],
      "metadata": {
        "id": "ZhntHK80e41d"
      },
      "execution_count": null,
      "outputs": []
    },
    {
      "cell_type": "code",
      "source": [
        "# removing out liers\n",
        "df = df[df[\"bmi\"] < 80]"
      ],
      "metadata": {
        "id": "3UZiLlDtfktV"
      },
      "execution_count": null,
      "outputs": []
    },
    {
      "cell_type": "code",
      "source": [
        "# changing whis to include all vaules\n",
        "sns.catplot(x=\"bmi\",\n",
        "           data = df,\n",
        "           kind=\"box\",\n",
        "           whis=[0,100])"
      ],
      "metadata": {
        "id": "--vpcSyofn2s"
      },
      "execution_count": null,
      "outputs": []
    },
    {
      "cell_type": "code",
      "source": [
        "df[\"smoking_status\"].value_counts()"
      ],
      "metadata": {
        "id": "S2fy58wGfqAE"
      },
      "execution_count": null,
      "outputs": []
    },
    {
      "cell_type": "code",
      "source": [
        "df[\"Residence_type\"].value_counts()"
      ],
      "metadata": {
        "id": "I4qhpUMzf1q8"
      },
      "execution_count": null,
      "outputs": []
    },
    {
      "cell_type": "code",
      "source": [
        "df[\"work_type\"].value_counts()"
      ],
      "metadata": {
        "id": "vnzB2cCmf4Fs"
      },
      "execution_count": null,
      "outputs": []
    },
    {
      "cell_type": "code",
      "source": [
        "df[\"avg_glucose_level\"].mean()"
      ],
      "metadata": {
        "id": "qh0SqUtsf6ay"
      },
      "execution_count": null,
      "outputs": []
    },
    {
      "cell_type": "code",
      "source": [
        "df[\"avg_glucose_level\"].median()"
      ],
      "metadata": {
        "id": "1I3rFE7sgL4m"
      },
      "execution_count": null,
      "outputs": []
    },
    {
      "cell_type": "code",
      "source": [
        "# i searched for glucose levels and i found it some times it over 250 so iwon't remove anything\n",
        "sns.catplot(x=\"avg_glucose_level\",\n",
        "           data = df,\n",
        "           kind=\"box\")"
      ],
      "metadata": {
        "id": "kdXGZ4TKgN19"
      },
      "execution_count": null,
      "outputs": []
    },
    {
      "cell_type": "code",
      "source": [
        "# we will change the whis to include all the data\n",
        "sns.catplot(x=\"avg_glucose_level\",\n",
        "           data = df,\n",
        "           kind=\"box\",\n",
        "           whis = [0,100])"
      ],
      "metadata": {
        "id": "guiRX36AgQP0"
      },
      "execution_count": null,
      "outputs": []
    },
    {
      "cell_type": "code",
      "source": [
        "# making analysis on the work_type data set\n",
        "df_jop = df[df[\"work_type\"] == \"children\"]\n",
        "df_jop.head()"
      ],
      "metadata": {
        "id": "grr6SEpdgSsr"
      },
      "execution_count": null,
      "outputs": []
    },
    {
      "cell_type": "code",
      "source": [
        "df_jop[\"age\"].mean()"
      ],
      "metadata": {
        "id": "Q27Tw4VGhp-o"
      },
      "execution_count": null,
      "outputs": []
    },
    {
      "cell_type": "code",
      "source": [
        "df_jop[\"smoking_status\"].value_counts()"
      ],
      "metadata": {
        "id": "CcwglhJ1iDmr"
      },
      "execution_count": null,
      "outputs": []
    },
    {
      "cell_type": "code",
      "source": [
        "df_jop[\"ever_married\"].value_counts()"
      ],
      "metadata": {
        "id": "ejWwLGfTnyYR"
      },
      "execution_count": null,
      "outputs": []
    },
    {
      "cell_type": "code",
      "source": [
        "df_jop[\"gender\"].value_counts()"
      ],
      "metadata": {
        "id": "NcxI5Eapn1d3"
      },
      "execution_count": null,
      "outputs": []
    },
    {
      "cell_type": "code",
      "source": [
        "df_jop[\"bmi\"].mean()"
      ],
      "metadata": {
        "id": "VtnXY6asn4pr"
      },
      "execution_count": null,
      "outputs": []
    },
    {
      "cell_type": "code",
      "source": [
        "df_jop[\"bmi\"].median()"
      ],
      "metadata": {
        "id": "7swNB5fbn8bi"
      },
      "execution_count": null,
      "outputs": []
    },
    {
      "cell_type": "code",
      "source": [
        "# the number of male and female in each Residence_type\n",
        "sns.catplot(x=\"Residence_type\",\n",
        "           data=df ,\n",
        "           kind=\"count\",\n",
        "           hue=\"gender\")"
      ],
      "metadata": {
        "id": "s4IArphkn-fg"
      },
      "execution_count": null,
      "outputs": []
    },
    {
      "cell_type": "code",
      "source": [
        "# checking for corr marriage and hypertension Fjo\n",
        "sns.catplot(x=\"ever_married\",\n",
        "           data=df ,\n",
        "           kind=\"count\",\n",
        "           hue=\"hypertension\")"
      ],
      "metadata": {
        "id": "vnHGF6EOoGxE"
      },
      "execution_count": null,
      "outputs": []
    },
    {
      "cell_type": "code",
      "source": [
        "# the bmi of each work type\n",
        "sns.histplot(x=\"bmi\",\n",
        "            data=df,\n",
        "            hue= \"work_type\",\n",
        "            bins=30)"
      ],
      "metadata": {
        "id": "fpyOUHO9oMdx"
      },
      "execution_count": null,
      "outputs": []
    },
    {
      "cell_type": "code",
      "source": [
        "# the work type that has the highest number of hypertension\n",
        "sns.catplot(x=\"hypertension\",\n",
        "           data=df ,\n",
        "           kind=\"count\",\n",
        "           hue=\"work_type\")"
      ],
      "metadata": {
        "id": "ENFlSDbroTpL"
      },
      "execution_count": null,
      "outputs": []
    },
    {
      "cell_type": "code",
      "source": [
        "# is their corr between age and bmi\n",
        "sns.relplot(x= \"age\",\n",
        "           y=\"bmi\",\n",
        "           data=df,\n",
        "           kind=\"scatter\",\n",
        "            hue=\"gender\")"
      ],
      "metadata": {
        "id": "DFTdD_Hioaze"
      },
      "execution_count": null,
      "outputs": []
    },
    {
      "cell_type": "code",
      "source": [
        "# the mean of smoking status in each gender\n",
        "sns.catplot(x=\"smoking_status\",\n",
        "       y=\"age\",\n",
        "       data=df,\n",
        "        kind=\"box\",\n",
        "        hue= \"gender\")\n",
        "plt.xticks(rotation=90)\n",
        "plt.show"
      ],
      "metadata": {
        "id": "ET8NgGrOojfB"
      },
      "execution_count": null,
      "outputs": []
    },
    {
      "cell_type": "code",
      "source": [],
      "metadata": {
        "id": "FOfEG9shoxNC"
      },
      "execution_count": null,
      "outputs": []
    }
  ]
}